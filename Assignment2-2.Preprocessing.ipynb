{
 "cells": [
  {
   "cell_type": "markdown",
   "metadata": {},
   "source": [
    "# MAST30034 Assignment2"
   ]
  },
  {
   "cell_type": "markdown",
   "metadata": {},
   "source": [
    "## 2.Preprocessing\n",
    "\n"
   ]
  },
  {
   "cell_type": "code",
   "execution_count": 1,
   "metadata": {},
   "outputs": [],
   "source": [
    "import pandas as pd\n",
    "import warnings\n",
    "import numpy as np\n",
    "from pandas.tseries.holiday import USFederalHolidayCalendar as calendar\n",
    "import matplotlib.pyplot as plt\n",
    "import seaborn as sns"
   ]
  },
  {
   "cell_type": "markdown",
   "metadata": {},
   "source": [
    "### 2.1 Input Dataset\n",
    "We focus on 2018 the whole year Dataset (Yellow car) "
   ]
  },
  {
   "cell_type": "code",
   "execution_count": null,
   "metadata": {},
   "outputs": [],
   "source": [
    "# Read the whole year Data set\n",
    "yellow_01 = pd.read_csv(\"E:/Uni/MAST30034/Data/yellow_tripdata_2018-01.csv\")\n",
    "yellow_02 = pd.read_csv(\"E:/Uni/MAST30034/Data/yellow_tripdata_2018-02.csv\")\n",
    "yellow_03 = pd.read_csv(\"E:/Uni/MAST30034/Data/yellow_tripdata_2018-03.csv\")\n",
    "yellow_04 = pd.read_csv(\"E:/Uni/MAST30034/Data/yellow_tripdata_2018-04.csv\")\n",
    "yellow_05 = pd.read_csv(\"E:/Uni/MAST30034/Data/yellow_tripdata_2018-05.csv\")\n",
    "yellow_06 = pd.read_csv(\"E:/Uni/MAST30034/Data/yellow_tripdata_2018-06.csv\")\n",
    "yellow_07 = pd.read_csv(\"E:/Uni/MAST30034/Data/yellow_tripdata_2018-07.csv\")\n",
    "yellow_08 = pd.read_csv(\"E:/Uni/MAST30034/Data/yellow_tripdata_2018-08.csv\")\n",
    "yellow_09 = pd.read_csv(\"E:/Uni/MAST30034/Data/yellow_tripdata_2018-09.csv\")\n",
    "yellow_10 = pd.read_csv(\"E:/Uni/MAST30034/Data/yellow_tripdata_2018-10.csv\")\n",
    "yellow_11 = pd.read_csv(\"E:/Uni/MAST30034/Data/yellow_tripdata_2018-11.csv\")\n",
    "yellow_12 = pd.read_csv(\"E:/Uni/MAST30034/Data/yellow_tripdata_2018-12.csv\")"
   ]
  },
  {
   "cell_type": "markdown",
   "metadata": {},
   "source": [
    "### 2.2 Combine all the data"
   ]
  },
  {
   "cell_type": "code",
   "execution_count": null,
   "metadata": {},
   "outputs": [],
   "source": [
    "# Combine all data together\n",
    "data  = yellow_01.append(yellow_02).append(yellow_03).append(yellow_04).append(yellow_05).append(yellow_06)\n",
    "data  = data.append(yellow_07).append(yellow_08).append(yellow_09).append(yellow_10).append(yellow_11).append(yellow_12)"
   ]
  },
  {
   "cell_type": "code",
   "execution_count": null,
   "metadata": {},
   "outputs": [],
   "source": [
    "data.reset_index().to_feather('2018_data.feather')"
   ]
  },
  {
   "cell_type": "markdown",
   "metadata": {},
   "source": [
    "### 3.Missing Value Detect"
   ]
  },
  {
   "cell_type": "code",
   "execution_count": 3,
   "metadata": {},
   "outputs": [
    {
     "data": {
      "text/plain": [
       "VendorID                 0\n",
       "tpep_pickup_datetime     0\n",
       "tpep_dropoff_datetime    0\n",
       "passenger_count          0\n",
       "trip_distance            0\n",
       "RatecodeID               0\n",
       "store_and_fwd_flag       0\n",
       "PULocationID             0\n",
       "DOLocationID             0\n",
       "payment_type             0\n",
       "fare_amount              0\n",
       "extra                    0\n",
       "mta_tax                  0\n",
       "tip_amount               0\n",
       "tolls_amount             0\n",
       "improvement_surcharge    0\n",
       "total_amount             0\n",
       "dtype: int64"
      ]
     },
     "execution_count": 3,
     "metadata": {},
     "output_type": "execute_result"
    }
   ],
   "source": [
    "data.isnull().sum()"
   ]
  },
  {
   "cell_type": "markdown",
   "metadata": {},
   "source": [
    "### 4.Feature engineering"
   ]
  },
  {
   "cell_type": "markdown",
   "metadata": {},
   "source": [
    "\"VendorID\", \"RatecodeID\", \"store_and_fwd_flag\", \"extra\",\"mta_tax\",\"improvement_surcharge\",\"tolls_amount\" are not the feature we focus on. We firstly drop them inorder to reduce the complexity"
   ]
  },
  {
   "cell_type": "code",
   "execution_count": null,
   "metadata": {},
   "outputs": [],
   "source": [
    "data = data.drop([\"VendorID\", \"RatecodeID\", \"store_and_fwd_flag\", \"extra\",\"mta_tax\",\"improvement_surcharge\",\"tolls_amount\"], axis='columns')"
   ]
  },
  {
   "cell_type": "markdown",
   "metadata": {},
   "source": [
    "We want to focus on the pickup time (in hours) and duration, beacuse the time may influence the traffic information, we think the traffic may have any relationship with tip amount"
   ]
  },
  {
   "cell_type": "markdown",
   "metadata": {},
   "source": [
    "#### 4.1 Time and Duration"
   ]
  },
  {
   "cell_type": "code",
   "execution_count": null,
   "metadata": {},
   "outputs": [],
   "source": [
    "data['tpep_pickup_datetime'] = pd.to_datetime(data['tpep_pickup_datetime'])\n",
    "data['tpep_dropoff_datetime'] = pd.to_datetime(data['tpep_dropoff_datetime'])\n",
    "#droped_sample['Month'] = droped_sample['tpep_pickup_datetime'].dt.month\n",
    "data['Date'] = data['tpep_pickup_datetime'] .dt.normalize()\n",
    "data['Druation'] = (data['tpep_dropoff_datetime']-data['tpep_pickup_datetime'])\n",
    "data['Druation'] = data['Druation']/ np.timedelta64(1, 'm')\n",
    "\n",
    "data[\"Time_h\"] = data[\"tpep_pickup_datetime\"].dt.hour\n",
    "\n",
    "data"
   ]
  },
  {
   "cell_type": "markdown",
   "metadata": {},
   "source": [
    "We also want to focus on the date, we classfy them into holiday, weekend and workday,we believe that different data may also affect the tip amount.                \n",
    "Note, the holiday we use the USFederalHolidayCalendar"
   ]
  },
  {
   "cell_type": "markdown",
   "metadata": {},
   "source": [
    "#### 4.2 Date(Holiday，Weekend and Workday)"
   ]
  },
  {
   "cell_type": "code",
   "execution_count": null,
   "metadata": {},
   "outputs": [],
   "source": [
    "cal = calendar()\n",
    "holidays = cal.holidays(start=\"2018-01-01\", end=\"2018-12-31\")\n",
    "#droped_sample['Holiday'] = pd.to_datetime(droped_sample['Holiday'])\n",
    "data['Holiday'] = data['Date'].isin(holidays)\n",
    "data['Week'] = data['Date'].dt.dayofweek\n",
    "data.loc[data['Week'] > 5, \"Type\"] = \"Weekend\"\n",
    "data.loc[data['Week'] <= 5, \"Type\"] = \"Workday\"\n",
    "data.loc[data['Holiday'] == True, \"Type\"] = \"Holiday\"\n",
    "data = data.drop([\"Holiday\", \"Week\"], axis='columns')\n",
    "data['Date'] = data['Date'].astype(str)\n",
    "data"
   ]
  },
  {
   "cell_type": "code",
   "execution_count": null,
   "metadata": {},
   "outputs": [],
   "source": [
    "data.to_feather('2018_data_feature_engineering.feather')"
   ]
  },
  {
   "cell_type": "code",
   "execution_count": null,
   "metadata": {},
   "outputs": [],
   "source": [
    "data = pd.read_feather(\"2018_data_feature_engineering.feather\")"
   ]
  },
  {
   "cell_type": "markdown",
   "metadata": {},
   "source": [
    "### 5.Data Cleaning\n",
    "After feature enging we found there are other abnormal data, thus we decide do feature eng first, then do the data cleaning"
   ]
  },
  {
   "cell_type": "markdown",
   "metadata": {},
   "source": [
    "#### 5.1 Remove Noisy Data"
   ]
  },
  {
   "cell_type": "code",
   "execution_count": null,
   "metadata": {},
   "outputs": [],
   "source": [
    "# restricted data in the vaild time [Sep 2018]\n",
    "cleaned_data = data[(data[\"tpep_pickup_datetime\"]<\"2018-12-31 23:59:59\") & (data[\"tpep_pickup_datetime\"]>\"2018-01-01 00:00:00\")]\n",
    "cleaned_data = cleaned_data[(cleaned_data[\"tpep_dropoff_datetime\"]<\"2018-12-31 23:59:59\") & (cleaned_data[\"tpep_dropoff_datetime\"]>\"2018-01-01 00:00:00\")]"
   ]
  },
  {
   "cell_type": "code",
   "execution_count": null,
   "metadata": {},
   "outputs": [],
   "source": [
    "# remove passenger == 0 and passenger > 7 since the maximum number of adult passenger is 5,but adults are allowed to bring kids, we\n",
    "# assume the maximum number of passenger is 7 (include kids)\n",
    "# https://www1.nyc.gov/site/tlc/passengers/passenger-frequently-asked-questions.page\n",
    "cleaned_data = cleaned_data[(cleaned_data[\"passenger_count\"] > 0)&(data[\"passenger_count\"] < 7 )]"
   ]
  },
  {
   "cell_type": "code",
   "execution_count": null,
   "metadata": {},
   "outputs": [],
   "source": [
    "# trip_distance == 0 and  trip_distance <200\n",
    "# we found there are some extrem long distence trip, they are not reasonable, so we make a restriction on 200 miles.\n",
    "cleaned_data = cleaned_data[(cleaned_data[\"trip_distance\"] > 0)&(data[\"trip_distance\"] < 200 )]"
   ]
  },
  {
   "cell_type": "code",
   "execution_count": null,
   "metadata": {},
   "outputs": [],
   "source": [
    "# 1 < Druation < 120\n",
    "# The duation are measured in minutes, some of data have the duration less than 1, we seen them as mis recorded data\n",
    "# We also make a restriction on 120 mins.\n",
    "cleaned_data = cleaned_data[(cleaned_data[\"Druation\"] > 1) & (cleaned_data[\"Druation\"] < 120)]"
   ]
  },
  {
   "cell_type": "code",
   "execution_count": null,
   "metadata": {},
   "outputs": [],
   "source": [
    "# We only focus on the data with tips recoreded \n",
    "# So we only keep the data with Credit card payment_type\n",
    "cleaned_data = cleaned_data[(cleaned_data[\"payment_type\"] == 1)]"
   ]
  },
  {
   "cell_type": "code",
   "execution_count": null,
   "metadata": {},
   "outputs": [],
   "source": [
    "# fare payment > 2.5\n",
    "# The initial value of fare amount is 2.5, so we only keep the data larger than or equal to 2.5\n",
    "cleaned_data = cleaned_data[(cleaned_data[\"fare_amount\"] >= 2.5)]     "
   ]
  },
  {
   "cell_type": "code",
   "execution_count": null,
   "metadata": {},
   "outputs": [],
   "source": [
    "# total payment > 2.5\n",
    "# As we mentioned, the initial value of fare amount is 2.5.\n",
    "# The total amount could only be lagrer than or equal to the fare amount\n",
    "# Therefore we only keep the total amount which is larger than or equal to 2.5\n",
    "cleaned_data = cleaned_data[(cleaned_data[\"total_amount\"] >= 2.5)]  "
   ]
  },
  {
   "cell_type": "code",
   "execution_count": null,
   "metadata": {},
   "outputs": [],
   "source": [
    "cleaned_data = cleaned_data.reset_index(drop=True)\n",
    "cleaned_data.to_feather('2018_cleaned.feather')"
   ]
  },
  {
   "cell_type": "code",
   "execution_count": 2,
   "metadata": {},
   "outputs": [],
   "source": [
    "cleaned_data = pd.read_feather(\"2018_cleaned.feather\")"
   ]
  },
  {
   "cell_type": "markdown",
   "metadata": {},
   "source": [
    "### 5.2 Outliers Detect and Remove"
   ]
  },
  {
   "cell_type": "code",
   "execution_count": 3,
   "metadata": {},
   "outputs": [
    {
     "data": {
      "text/html": [
       "<div>\n",
       "<style scoped>\n",
       "    .dataframe tbody tr th:only-of-type {\n",
       "        vertical-align: middle;\n",
       "    }\n",
       "\n",
       "    .dataframe tbody tr th {\n",
       "        vertical-align: top;\n",
       "    }\n",
       "\n",
       "    .dataframe thead th {\n",
       "        text-align: right;\n",
       "    }\n",
       "</style>\n",
       "<table border=\"1\" class=\"dataframe\">\n",
       "  <thead>\n",
       "    <tr style=\"text-align: right;\">\n",
       "      <th></th>\n",
       "      <th>passenger_count</th>\n",
       "      <th>trip_distance</th>\n",
       "      <th>PULocationID</th>\n",
       "      <th>DOLocationID</th>\n",
       "      <th>payment_type</th>\n",
       "      <th>fare_amount</th>\n",
       "      <th>tip_amount</th>\n",
       "      <th>total_amount</th>\n",
       "      <th>Druation</th>\n",
       "      <th>Time_h</th>\n",
       "    </tr>\n",
       "  </thead>\n",
       "  <tbody>\n",
       "    <tr>\n",
       "      <th>count</th>\n",
       "      <td>7.013822e+07</td>\n",
       "      <td>7.013822e+07</td>\n",
       "      <td>7.013822e+07</td>\n",
       "      <td>7.013822e+07</td>\n",
       "      <td>70138220.0</td>\n",
       "      <td>7.013822e+07</td>\n",
       "      <td>7.013822e+07</td>\n",
       "      <td>7.013822e+07</td>\n",
       "      <td>7.013822e+07</td>\n",
       "      <td>7.013822e+07</td>\n",
       "    </tr>\n",
       "    <tr>\n",
       "      <th>mean</th>\n",
       "      <td>1.596283e+00</td>\n",
       "      <td>3.078846e+00</td>\n",
       "      <td>1.637424e+02</td>\n",
       "      <td>1.620944e+02</td>\n",
       "      <td>1.0</td>\n",
       "      <td>1.331804e+01</td>\n",
       "      <td>2.676624e+00</td>\n",
       "      <td>1.752350e+01</td>\n",
       "      <td>1.485269e+01</td>\n",
       "      <td>1.387206e+01</td>\n",
       "    </tr>\n",
       "    <tr>\n",
       "      <th>std</th>\n",
       "      <td>1.232064e+00</td>\n",
       "      <td>3.854872e+00</td>\n",
       "      <td>6.595406e+01</td>\n",
       "      <td>7.008887e+01</td>\n",
       "      <td>0.0</td>\n",
       "      <td>1.130875e+01</td>\n",
       "      <td>2.621047e+00</td>\n",
       "      <td>1.455749e+01</td>\n",
       "      <td>1.163988e+01</td>\n",
       "      <td>6.165144e+00</td>\n",
       "    </tr>\n",
       "    <tr>\n",
       "      <th>min</th>\n",
       "      <td>1.000000e+00</td>\n",
       "      <td>1.000000e-02</td>\n",
       "      <td>1.000000e+00</td>\n",
       "      <td>1.000000e+00</td>\n",
       "      <td>1.0</td>\n",
       "      <td>2.500000e+00</td>\n",
       "      <td>0.000000e+00</td>\n",
       "      <td>3.300000e+00</td>\n",
       "      <td>1.016667e+00</td>\n",
       "      <td>0.000000e+00</td>\n",
       "    </tr>\n",
       "    <tr>\n",
       "      <th>25%</th>\n",
       "      <td>1.000000e+00</td>\n",
       "      <td>1.000000e+00</td>\n",
       "      <td>1.140000e+02</td>\n",
       "      <td>1.130000e+02</td>\n",
       "      <td>1.0</td>\n",
       "      <td>6.500000e+00</td>\n",
       "      <td>1.320000e+00</td>\n",
       "      <td>9.350000e+00</td>\n",
       "      <td>7.016667e+00</td>\n",
       "      <td>9.000000e+00</td>\n",
       "    </tr>\n",
       "    <tr>\n",
       "      <th>50%</th>\n",
       "      <td>1.000000e+00</td>\n",
       "      <td>1.700000e+00</td>\n",
       "      <td>1.620000e+02</td>\n",
       "      <td>1.620000e+02</td>\n",
       "      <td>1.0</td>\n",
       "      <td>9.500000e+00</td>\n",
       "      <td>2.000000e+00</td>\n",
       "      <td>1.285000e+01</td>\n",
       "      <td>1.161667e+01</td>\n",
       "      <td>1.500000e+01</td>\n",
       "    </tr>\n",
       "    <tr>\n",
       "      <th>75%</th>\n",
       "      <td>2.000000e+00</td>\n",
       "      <td>3.190000e+00</td>\n",
       "      <td>2.330000e+02</td>\n",
       "      <td>2.340000e+02</td>\n",
       "      <td>1.0</td>\n",
       "      <td>1.500000e+01</td>\n",
       "      <td>3.000000e+00</td>\n",
       "      <td>1.896000e+01</td>\n",
       "      <td>1.891667e+01</td>\n",
       "      <td>1.900000e+01</td>\n",
       "    </tr>\n",
       "    <tr>\n",
       "      <th>max</th>\n",
       "      <td>6.000000e+00</td>\n",
       "      <td>9.329000e+02</td>\n",
       "      <td>2.650000e+02</td>\n",
       "      <td>2.650000e+02</td>\n",
       "      <td>1.0</td>\n",
       "      <td>7.620000e+02</td>\n",
       "      <td>9.459700e+02</td>\n",
       "      <td>9.527700e+02</td>\n",
       "      <td>1.199833e+02</td>\n",
       "      <td>2.300000e+01</td>\n",
       "    </tr>\n",
       "  </tbody>\n",
       "</table>\n",
       "</div>"
      ],
      "text/plain": [
       "       passenger_count  trip_distance  PULocationID  DOLocationID  \\\n",
       "count     7.013822e+07   7.013822e+07  7.013822e+07  7.013822e+07   \n",
       "mean      1.596283e+00   3.078846e+00  1.637424e+02  1.620944e+02   \n",
       "std       1.232064e+00   3.854872e+00  6.595406e+01  7.008887e+01   \n",
       "min       1.000000e+00   1.000000e-02  1.000000e+00  1.000000e+00   \n",
       "25%       1.000000e+00   1.000000e+00  1.140000e+02  1.130000e+02   \n",
       "50%       1.000000e+00   1.700000e+00  1.620000e+02  1.620000e+02   \n",
       "75%       2.000000e+00   3.190000e+00  2.330000e+02  2.340000e+02   \n",
       "max       6.000000e+00   9.329000e+02  2.650000e+02  2.650000e+02   \n",
       "\n",
       "       payment_type   fare_amount    tip_amount  total_amount      Druation  \\\n",
       "count    70138220.0  7.013822e+07  7.013822e+07  7.013822e+07  7.013822e+07   \n",
       "mean            1.0  1.331804e+01  2.676624e+00  1.752350e+01  1.485269e+01   \n",
       "std             0.0  1.130875e+01  2.621047e+00  1.455749e+01  1.163988e+01   \n",
       "min             1.0  2.500000e+00  0.000000e+00  3.300000e+00  1.016667e+00   \n",
       "25%             1.0  6.500000e+00  1.320000e+00  9.350000e+00  7.016667e+00   \n",
       "50%             1.0  9.500000e+00  2.000000e+00  1.285000e+01  1.161667e+01   \n",
       "75%             1.0  1.500000e+01  3.000000e+00  1.896000e+01  1.891667e+01   \n",
       "max             1.0  7.620000e+02  9.459700e+02  9.527700e+02  1.199833e+02   \n",
       "\n",
       "             Time_h  \n",
       "count  7.013822e+07  \n",
       "mean   1.387206e+01  \n",
       "std    6.165144e+00  \n",
       "min    0.000000e+00  \n",
       "25%    9.000000e+00  \n",
       "50%    1.500000e+01  \n",
       "75%    1.900000e+01  \n",
       "max    2.300000e+01  "
      ]
     },
     "execution_count": 3,
     "metadata": {},
     "output_type": "execute_result"
    }
   ],
   "source": [
    "cleaned_data.describe()"
   ]
  },
  {
   "cell_type": "code",
   "execution_count": 4,
   "metadata": {},
   "outputs": [
    {
     "data": {
      "image/png": "[encoded data removed]",
      "text/plain": [
       "<Figure size 432x288 with 1 Axes>"
      ]
     },
     "metadata": {
      "needs_background": "light"
     },
     "output_type": "display_data"
    }
   ],
   "source": [
    "# initial view of fees\n",
    "amount = [\"tip_amount\",\"fare_amount\",\"total_amount\"]\n",
    "\n",
    "amount_boxplot = cleaned_data.boxplot(column=amount, fontsize=15,figsize=(6,4))\n",
    "fig = amount_boxplot.get_figure()\n",
    "\n",
    "fig.suptitle('Box Plot of Fees',fontsize=15)\n",
    "plt.show()\n",
    "fig.savefig(\"Box Plot of Fees.png\")"
   ]
  },
  {
   "cell_type": "code",
   "execution_count": 5,
   "metadata": {},
   "outputs": [
    {
     "data": {
      "image/png": "[encoded data removed]",
      "text/plain": [
       "<Figure size 432x288 with 1 Axes>"
      ]
     },
     "metadata": {
      "needs_background": "light"
     },
     "output_type": "display_data"
    }
   ],
   "source": [
    "# initial view of distance\n",
    "distance = [\"trip_distance\"]\n",
    "\n",
    "distance = cleaned_data.boxplot(column=distance, fontsize=15,figsize=(6,4))\n",
    "fig = distance.get_figure()\n",
    "\n",
    "fig.suptitle('Box Plot of Distance',fontsize=15)\n",
    "plt.show()\n",
    "fig.savefig(\"Box Plot of Distance.png\")"
   ]
  },
  {
   "cell_type": "markdown",
   "metadata": {},
   "source": [
    "We decide to use Interquartile Rule to find Outliers and remove them"
   ]
  },
  {
   "cell_type": "code",
   "execution_count": null,
   "metadata": {},
   "outputs": [],
   "source": [
    "Q1 = cleaned_data[[\"tip_amount\",\"fare_amount\",\"total_amount\",\"trip_distance\"]].quantile(0.25)\n",
    "Q3 = cleaned_data[[\"tip_amount\",\"fare_amount\",\"total_amount\",\"trip_distance\"]].quantile(0.75)\n",
    "IQR = Q3 - Q1\n",
    "\n",
    "cleaned= cleaned_data[~((cleaned_data[[\"tip_amount\",\"fare_amount\",\"total_amount\",\"trip_distance\"]]< (Q1 - 3 * IQR)) |(cleaned_data[[\"tip_amount\",\"fare_amount\",\"total_amount\",\"trip_distance\"]]> (Q3 + 3 * IQR))).any(axis=1)]"
   ]
  },
  {
   "cell_type": "code",
   "execution_count": 7,
   "metadata": {},
   "outputs": [
    {
     "data": {
      "image/png": "[encoded data removed]",
      "text/plain": [
       "<Figure size 432x288 with 1 Axes>"
      ]
     },
     "metadata": {
      "needs_background": "light"
     },
     "output_type": "display_data"
    }
   ],
   "source": [
    "# Plot the Outliers removed plot\n",
    "amount = [\"tip_amount\",\"fare_amount\",\"total_amount\"]\n",
    "\n",
    "amount_boxplot = cleaned.boxplot(column=amount, fontsize=15,figsize=(6,4))\n",
    "fig = amount_boxplot.get_figure()\n",
    "\n",
    "fig.suptitle('Box Plot of Fees(Outliers Removed)',fontsize=15)\n",
    "plt.show()\n",
    "fig.savefig(\"Box Plot of Fees(Outliers Removed).png\")"
   ]
  },
  {
   "cell_type": "code",
   "execution_count": 8,
   "metadata": {},
   "outputs": [
    {
     "data": {
      "image/png": "[encoded data removed]",
      "text/plain": [
       "<Figure size 432x288 with 1 Axes>"
      ]
     },
     "metadata": {
      "needs_background": "light"
     },
     "output_type": "display_data"
    }
   ],
   "source": [
    "distance = [\"trip_distance\"]\n",
    "\n",
    "distance = cleaned.boxplot(column=distance, fontsize=15,figsize=(6,4))\n",
    "fig = distance.get_figure()\n",
    "\n",
    "fig.suptitle('Box Plot of Distance(Outliers Removed)',fontsize=15)\n",
    "plt.show()\n",
    "fig.savefig(\"Box Plot of Distance(Outliers Removed).png\")"
   ]
  },
  {
   "cell_type": "code",
   "execution_count": null,
   "metadata": {},
   "outputs": [],
   "source": [
    "cleaned.reset_index(drop=True).to_feather('2018_cleaned_without_outliers.feather')"
   ]
  },
  {
   "cell_type": "markdown",
   "metadata": {},
   "source": [
    "### 6. Adding extra Data set\n",
    "#### 6.1 Weather(Wind, precipitate, snow, snow deep, temp\tand Weather Type)"
   ]
  },
  {
   "cell_type": "code",
   "execution_count": 2,
   "metadata": {},
   "outputs": [],
   "source": [
    "cleaned = pd.read_feather(\"2018_cleaned_without_outliers.feather\")\n",
    "weather = pd.read_feather(\"cleaned_2018_NewYork_weather.feather\")"
   ]
  },
  {
   "cell_type": "code",
   "execution_count": 3,
   "metadata": {},
   "outputs": [],
   "source": [
    "cleaned = cleaned.drop([\"payment_type\"], axis='columns')\n",
    "cleaned_data = pd.merge(cleaned, weather, left_on='Date', right_on='DATE')"
   ]
  },
  {
   "cell_type": "code",
   "execution_count": null,
   "metadata": {
    "scrolled": true
   },
   "outputs": [],
   "source": [
    "cleaned_data"
   ]
  },
  {
   "cell_type": "markdown",
   "metadata": {},
   "source": [
    "### 7. Tip type modify"
   ]
  },
  {
   "cell_type": "markdown",
   "metadata": {},
   "source": [
    "The are some records with 0 tip amount, we classify them to a new group"
   ]
  },
  {
   "cell_type": "code",
   "execution_count": 11,
   "metadata": {},
   "outputs": [],
   "source": [
    "cleaned_data['Tip'] = np.where(cleaned_data[\"tip_amount\"]> 0, 1, 0)"
   ]
  },
  {
   "cell_type": "code",
   "execution_count": 12,
   "metadata": {},
   "outputs": [],
   "source": [
    "cleaned_data.to_feather(\"2018_finished.feather\")"
   ]
  },
  {
   "cell_type": "markdown",
   "metadata": {},
   "source": [
    "### 8.Sampling \n",
    "The whole year dataset is gigantic, it's hard for my pc to handle such huge dataset.\n",
    "Therefore we decide to sample 1% of the whole dataset to represent the whole dataset."
   ]
  },
  {
   "cell_type": "code",
   "execution_count": 13,
   "metadata": {},
   "outputs": [],
   "source": [
    "sample = cleaned_data.sample(frac=0.01, replace=True, random_state=30034)\n",
    "sample = sample.sort_values(by=['tpep_pickup_datetime']).reset_index(drop=True)"
   ]
  },
  {
   "cell_type": "code",
   "execution_count": 14,
   "metadata": {
    "scrolled": true
   },
   "outputs": [
    {
     "data": {
      "text/html": [
       "<div>\n",
       "<style scoped>\n",
       "    .dataframe tbody tr th:only-of-type {\n",
       "        vertical-align: middle;\n",
       "    }\n",
       "\n",
       "    .dataframe tbody tr th {\n",
       "        vertical-align: top;\n",
       "    }\n",
       "\n",
       "    .dataframe thead th {\n",
       "        text-align: right;\n",
       "    }\n",
       "</style>\n",
       "<table border=\"1\" class=\"dataframe\">\n",
       "  <thead>\n",
       "    <tr style=\"text-align: right;\">\n",
       "      <th></th>\n",
       "      <th>tpep_pickup_datetime</th>\n",
       "      <th>tpep_dropoff_datetime</th>\n",
       "      <th>passenger_count</th>\n",
       "      <th>trip_distance</th>\n",
       "      <th>PULocationID</th>\n",
       "      <th>DOLocationID</th>\n",
       "      <th>fare_amount</th>\n",
       "      <th>tip_amount</th>\n",
       "      <th>total_amount</th>\n",
       "      <th>Date</th>\n",
       "      <th>...</th>\n",
       "      <th>Time_h</th>\n",
       "      <th>Type</th>\n",
       "      <th>DATE</th>\n",
       "      <th>AWND</th>\n",
       "      <th>PRCP</th>\n",
       "      <th>SNOW</th>\n",
       "      <th>SNWD</th>\n",
       "      <th>TAVG</th>\n",
       "      <th>Weather Type</th>\n",
       "      <th>Tip</th>\n",
       "    </tr>\n",
       "  </thead>\n",
       "  <tbody>\n",
       "    <tr>\n",
       "      <th>0</th>\n",
       "      <td>2018-01-01 00:00:25</td>\n",
       "      <td>2018-01-01 00:06:08</td>\n",
       "      <td>1</td>\n",
       "      <td>1.36</td>\n",
       "      <td>43</td>\n",
       "      <td>237</td>\n",
       "      <td>6.5</td>\n",
       "      <td>2.34</td>\n",
       "      <td>10.14</td>\n",
       "      <td>2018-01-01</td>\n",
       "      <td>...</td>\n",
       "      <td>0</td>\n",
       "      <td>Holiday</td>\n",
       "      <td>2018-01-01</td>\n",
       "      <td>7.83</td>\n",
       "      <td>0.00</td>\n",
       "      <td>0.0</td>\n",
       "      <td>0.0</td>\n",
       "      <td>-10.555556</td>\n",
       "      <td>N</td>\n",
       "      <td>1</td>\n",
       "    </tr>\n",
       "    <tr>\n",
       "      <th>1</th>\n",
       "      <td>2018-01-01 00:03:46</td>\n",
       "      <td>2018-01-01 00:08:42</td>\n",
       "      <td>1</td>\n",
       "      <td>0.70</td>\n",
       "      <td>148</td>\n",
       "      <td>79</td>\n",
       "      <td>5.0</td>\n",
       "      <td>1.25</td>\n",
       "      <td>7.55</td>\n",
       "      <td>2018-01-01</td>\n",
       "      <td>...</td>\n",
       "      <td>0</td>\n",
       "      <td>Holiday</td>\n",
       "      <td>2018-01-01</td>\n",
       "      <td>7.83</td>\n",
       "      <td>0.00</td>\n",
       "      <td>0.0</td>\n",
       "      <td>0.0</td>\n",
       "      <td>-10.555556</td>\n",
       "      <td>N</td>\n",
       "      <td>1</td>\n",
       "    </tr>\n",
       "    <tr>\n",
       "      <th>2</th>\n",
       "      <td>2018-01-01 00:05:09</td>\n",
       "      <td>2018-01-01 00:09:03</td>\n",
       "      <td>3</td>\n",
       "      <td>0.90</td>\n",
       "      <td>263</td>\n",
       "      <td>43</td>\n",
       "      <td>5.5</td>\n",
       "      <td>1.35</td>\n",
       "      <td>8.15</td>\n",
       "      <td>2018-01-01</td>\n",
       "      <td>...</td>\n",
       "      <td>0</td>\n",
       "      <td>Holiday</td>\n",
       "      <td>2018-01-01</td>\n",
       "      <td>7.83</td>\n",
       "      <td>0.00</td>\n",
       "      <td>0.0</td>\n",
       "      <td>0.0</td>\n",
       "      <td>-10.555556</td>\n",
       "      <td>N</td>\n",
       "      <td>1</td>\n",
       "    </tr>\n",
       "    <tr>\n",
       "      <th>3</th>\n",
       "      <td>2018-01-01 00:08:03</td>\n",
       "      <td>2018-01-01 00:16:01</td>\n",
       "      <td>2</td>\n",
       "      <td>1.45</td>\n",
       "      <td>107</td>\n",
       "      <td>148</td>\n",
       "      <td>7.5</td>\n",
       "      <td>1.76</td>\n",
       "      <td>10.56</td>\n",
       "      <td>2018-01-01</td>\n",
       "      <td>...</td>\n",
       "      <td>0</td>\n",
       "      <td>Holiday</td>\n",
       "      <td>2018-01-01</td>\n",
       "      <td>7.83</td>\n",
       "      <td>0.00</td>\n",
       "      <td>0.0</td>\n",
       "      <td>0.0</td>\n",
       "      <td>-10.555556</td>\n",
       "      <td>N</td>\n",
       "      <td>1</td>\n",
       "    </tr>\n",
       "    <tr>\n",
       "      <th>4</th>\n",
       "      <td>2018-01-01 00:09:20</td>\n",
       "      <td>2018-01-01 00:39:38</td>\n",
       "      <td>1</td>\n",
       "      <td>2.60</td>\n",
       "      <td>162</td>\n",
       "      <td>48</td>\n",
       "      <td>19.0</td>\n",
       "      <td>4.05</td>\n",
       "      <td>24.35</td>\n",
       "      <td>2018-01-01</td>\n",
       "      <td>...</td>\n",
       "      <td>0</td>\n",
       "      <td>Holiday</td>\n",
       "      <td>2018-01-01</td>\n",
       "      <td>7.83</td>\n",
       "      <td>0.00</td>\n",
       "      <td>0.0</td>\n",
       "      <td>0.0</td>\n",
       "      <td>-10.555556</td>\n",
       "      <td>N</td>\n",
       "      <td>1</td>\n",
       "    </tr>\n",
       "    <tr>\n",
       "      <th>...</th>\n",
       "      <td>...</td>\n",
       "      <td>...</td>\n",
       "      <td>...</td>\n",
       "      <td>...</td>\n",
       "      <td>...</td>\n",
       "      <td>...</td>\n",
       "      <td>...</td>\n",
       "      <td>...</td>\n",
       "      <td>...</td>\n",
       "      <td>...</td>\n",
       "      <td>...</td>\n",
       "      <td>...</td>\n",
       "      <td>...</td>\n",
       "      <td>...</td>\n",
       "      <td>...</td>\n",
       "      <td>...</td>\n",
       "      <td>...</td>\n",
       "      <td>...</td>\n",
       "      <td>...</td>\n",
       "      <td>...</td>\n",
       "      <td>...</td>\n",
       "    </tr>\n",
       "    <tr>\n",
       "      <th>648293</th>\n",
       "      <td>2018-12-31 23:34:09</td>\n",
       "      <td>2018-12-31 23:40:50</td>\n",
       "      <td>1</td>\n",
       "      <td>0.69</td>\n",
       "      <td>249</td>\n",
       "      <td>249</td>\n",
       "      <td>6.0</td>\n",
       "      <td>1.46</td>\n",
       "      <td>8.76</td>\n",
       "      <td>2018-12-31</td>\n",
       "      <td>...</td>\n",
       "      <td>23</td>\n",
       "      <td>Workday</td>\n",
       "      <td>2018-12-31</td>\n",
       "      <td>0.00</td>\n",
       "      <td>1.02</td>\n",
       "      <td>0.0</td>\n",
       "      <td>0.0</td>\n",
       "      <td>5.555556</td>\n",
       "      <td>Y</td>\n",
       "      <td>1</td>\n",
       "    </tr>\n",
       "    <tr>\n",
       "      <th>648294</th>\n",
       "      <td>2018-12-31 23:35:31</td>\n",
       "      <td>2018-12-31 23:55:56</td>\n",
       "      <td>4</td>\n",
       "      <td>3.80</td>\n",
       "      <td>48</td>\n",
       "      <td>158</td>\n",
       "      <td>16.0</td>\n",
       "      <td>3.45</td>\n",
       "      <td>20.75</td>\n",
       "      <td>2018-12-31</td>\n",
       "      <td>...</td>\n",
       "      <td>23</td>\n",
       "      <td>Workday</td>\n",
       "      <td>2018-12-31</td>\n",
       "      <td>0.00</td>\n",
       "      <td>1.02</td>\n",
       "      <td>0.0</td>\n",
       "      <td>0.0</td>\n",
       "      <td>5.555556</td>\n",
       "      <td>Y</td>\n",
       "      <td>1</td>\n",
       "    </tr>\n",
       "    <tr>\n",
       "      <th>648295</th>\n",
       "      <td>2018-12-31 23:36:21</td>\n",
       "      <td>2018-12-31 23:44:45</td>\n",
       "      <td>1</td>\n",
       "      <td>2.40</td>\n",
       "      <td>142</td>\n",
       "      <td>151</td>\n",
       "      <td>9.0</td>\n",
       "      <td>2.50</td>\n",
       "      <td>12.80</td>\n",
       "      <td>2018-12-31</td>\n",
       "      <td>...</td>\n",
       "      <td>23</td>\n",
       "      <td>Workday</td>\n",
       "      <td>2018-12-31</td>\n",
       "      <td>0.00</td>\n",
       "      <td>1.02</td>\n",
       "      <td>0.0</td>\n",
       "      <td>0.0</td>\n",
       "      <td>5.555556</td>\n",
       "      <td>Y</td>\n",
       "      <td>1</td>\n",
       "    </tr>\n",
       "    <tr>\n",
       "      <th>648296</th>\n",
       "      <td>2018-12-31 23:44:40</td>\n",
       "      <td>2018-12-31 23:52:33</td>\n",
       "      <td>1</td>\n",
       "      <td>0.71</td>\n",
       "      <td>142</td>\n",
       "      <td>48</td>\n",
       "      <td>6.5</td>\n",
       "      <td>5.00</td>\n",
       "      <td>12.80</td>\n",
       "      <td>2018-12-31</td>\n",
       "      <td>...</td>\n",
       "      <td>23</td>\n",
       "      <td>Workday</td>\n",
       "      <td>2018-12-31</td>\n",
       "      <td>0.00</td>\n",
       "      <td>1.02</td>\n",
       "      <td>0.0</td>\n",
       "      <td>0.0</td>\n",
       "      <td>5.555556</td>\n",
       "      <td>Y</td>\n",
       "      <td>1</td>\n",
       "    </tr>\n",
       "    <tr>\n",
       "      <th>648297</th>\n",
       "      <td>2018-12-31 23:48:01</td>\n",
       "      <td>2018-12-31 23:49:22</td>\n",
       "      <td>1</td>\n",
       "      <td>0.15</td>\n",
       "      <td>144</td>\n",
       "      <td>148</td>\n",
       "      <td>2.5</td>\n",
       "      <td>0.76</td>\n",
       "      <td>4.56</td>\n",
       "      <td>2018-12-31</td>\n",
       "      <td>...</td>\n",
       "      <td>23</td>\n",
       "      <td>Workday</td>\n",
       "      <td>2018-12-31</td>\n",
       "      <td>0.00</td>\n",
       "      <td>1.02</td>\n",
       "      <td>0.0</td>\n",
       "      <td>0.0</td>\n",
       "      <td>5.555556</td>\n",
       "      <td>Y</td>\n",
       "      <td>1</td>\n",
       "    </tr>\n",
       "  </tbody>\n",
       "</table>\n",
       "<p>648298 rows × 21 columns</p>\n",
       "</div>"
      ],
      "text/plain": [
       "       tpep_pickup_datetime tpep_dropoff_datetime  passenger_count  \\\n",
       "0       2018-01-01 00:00:25   2018-01-01 00:06:08                1   \n",
       "1       2018-01-01 00:03:46   2018-01-01 00:08:42                1   \n",
       "2       2018-01-01 00:05:09   2018-01-01 00:09:03                3   \n",
       "3       2018-01-01 00:08:03   2018-01-01 00:16:01                2   \n",
       "4       2018-01-01 00:09:20   2018-01-01 00:39:38                1   \n",
       "...                     ...                   ...              ...   \n",
       "648293  2018-12-31 23:34:09   2018-12-31 23:40:50                1   \n",
       "648294  2018-12-31 23:35:31   2018-12-31 23:55:56                4   \n",
       "648295  2018-12-31 23:36:21   2018-12-31 23:44:45                1   \n",
       "648296  2018-12-31 23:44:40   2018-12-31 23:52:33                1   \n",
       "648297  2018-12-31 23:48:01   2018-12-31 23:49:22                1   \n",
       "\n",
       "        trip_distance  PULocationID  DOLocationID  fare_amount  tip_amount  \\\n",
       "0                1.36            43           237          6.5        2.34   \n",
       "1                0.70           148            79          5.0        1.25   \n",
       "2                0.90           263            43          5.5        1.35   \n",
       "3                1.45           107           148          7.5        1.76   \n",
       "4                2.60           162            48         19.0        4.05   \n",
       "...               ...           ...           ...          ...         ...   \n",
       "648293           0.69           249           249          6.0        1.46   \n",
       "648294           3.80            48           158         16.0        3.45   \n",
       "648295           2.40           142           151          9.0        2.50   \n",
       "648296           0.71           142            48          6.5        5.00   \n",
       "648297           0.15           144           148          2.5        0.76   \n",
       "\n",
       "        total_amount        Date  ...  Time_h     Type        DATE  AWND  \\\n",
       "0              10.14  2018-01-01  ...       0  Holiday  2018-01-01  7.83   \n",
       "1               7.55  2018-01-01  ...       0  Holiday  2018-01-01  7.83   \n",
       "2               8.15  2018-01-01  ...       0  Holiday  2018-01-01  7.83   \n",
       "3              10.56  2018-01-01  ...       0  Holiday  2018-01-01  7.83   \n",
       "4              24.35  2018-01-01  ...       0  Holiday  2018-01-01  7.83   \n",
       "...              ...         ...  ...     ...      ...         ...   ...   \n",
       "648293          8.76  2018-12-31  ...      23  Workday  2018-12-31  0.00   \n",
       "648294         20.75  2018-12-31  ...      23  Workday  2018-12-31  0.00   \n",
       "648295         12.80  2018-12-31  ...      23  Workday  2018-12-31  0.00   \n",
       "648296         12.80  2018-12-31  ...      23  Workday  2018-12-31  0.00   \n",
       "648297          4.56  2018-12-31  ...      23  Workday  2018-12-31  0.00   \n",
       "\n",
       "        PRCP  SNOW  SNWD       TAVG  Weather Type Tip  \n",
       "0       0.00   0.0   0.0 -10.555556             N   1  \n",
       "1       0.00   0.0   0.0 -10.555556             N   1  \n",
       "2       0.00   0.0   0.0 -10.555556             N   1  \n",
       "3       0.00   0.0   0.0 -10.555556             N   1  \n",
       "4       0.00   0.0   0.0 -10.555556             N   1  \n",
       "...      ...   ...   ...        ...           ...  ..  \n",
       "648293  1.02   0.0   0.0   5.555556             Y   1  \n",
       "648294  1.02   0.0   0.0   5.555556             Y   1  \n",
       "648295  1.02   0.0   0.0   5.555556             Y   1  \n",
       "648296  1.02   0.0   0.0   5.555556             Y   1  \n",
       "648297  1.02   0.0   0.0   5.555556             Y   1  \n",
       "\n",
       "[648298 rows x 21 columns]"
      ]
     },
     "execution_count": 14,
     "metadata": {},
     "output_type": "execute_result"
    }
   ],
   "source": [
    "sample"
   ]
  },
  {
   "cell_type": "code",
   "execution_count": 15,
   "metadata": {},
   "outputs": [],
   "source": [
    "sample.to_csv('2018_sample.csv')\n",
    "sample.to_feather('2018_sample.feather')"
   ]
  },
  {
   "cell_type": "code",
   "execution_count": null,
   "metadata": {},
   "outputs": [],
   "source": []
  }
 ],
 "metadata": {
  "kernelspec": {
   "display_name": "Python 3",
   "language": "python",
   "name": "python3"
  },
  "language_info": {
   "codemirror_mode": {
    "name": "ipython",
    "version": 3
   },
   "file_extension": ".py",
   "mimetype": "text/x-python",
   "name": "python",
   "nbconvert_exporter": "python",
   "pygments_lexer": "ipython3",
   "version": "3.8.3"
  }
 },
 "nbformat": 4,
 "nbformat_minor": 4
}
